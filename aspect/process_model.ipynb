{
 "cells": [
  {
   "cell_type": "markdown",
   "metadata": {},
   "source": [
    "# Process Model Outputs"
   ]
  },
  {
   "cell_type": "code",
   "execution_count": null,
   "metadata": {},
   "outputs": [],
   "source": [
    "# Imports\n",
    "import os\n",
    "import shutil\n",
    "\n",
    "import cv2\n",
    "\n",
    "import matplotlib.pyplot as plt\n",
    "import numpy as np\n",
    "import pandas as pd\n",
    "import cmcrameri.cm as cmc\n",
    "import pyvista as pv\n",
    "\n",
    "pv.start_xvfb()\n",
    "\n",
    "from tqdm import tqdm\n",
    "\n",
    "from gdtchron import calculate,plot,aft"
   ]
  },
  {
   "cell_type": "code",
   "execution_count": null,
   "metadata": {},
   "outputs": [],
   "source": [
    "# Get files from model output\n",
    "part_path = 'output_uplift_box_fixed/particles'\n",
    "files = [os.path.join(part_path,file) for file in os.listdir(part_path) if file.endswith('.pvtu')]\n",
    "files.sort()"
   ]
  },
  {
   "cell_type": "code",
   "execution_count": null,
   "metadata": {},
   "outputs": [],
   "source": [
    "# Get AHe ages and create new meshes.\n",
    "calculate.tchron_vtk_parallel(files,'AHe',1e5,\n",
    "                                model_inputs=(100,100,50),\n",
    "                                model_fn=calculate.particle_He_profile,\n",
    "                                batch_size=100,\n",
    "                                processes=os.cpu_count()/2,\n",
    "                                overwrite=False,\n",
    "                                file_prefix='meshes_tchron_uplift')"
   ]
  },
  {
   "cell_type": "code",
   "execution_count": null,
   "metadata": {},
   "outputs": [],
   "source": [
    "# Set path to reuse files from AHe\n",
    "new_path = 'meshes_tchron_uplift'\n",
    "files = [os.path.join(new_path,file) for file in os.listdir(new_path) if file.endswith('.vtu')]\n",
    "files.sort()"
   ]
  },
  {
   "cell_type": "code",
   "execution_count": null,
   "metadata": {},
   "outputs": [],
   "source": [
    "# Add AFT\n",
    "calculate.tchron_vtk_parallel(files,'AFT',1e5,\n",
    "                                model_inputs=(aft.Ketcham_99_FC, 1.75),\n",
    "                                model_fn=calculate.particle_FT_annealing,\n",
    "                                batch_size=100,\n",
    "                                processes=os.cpu_count()/2,\n",
    "                                overwrite=False,\n",
    "                                file_prefix='meshes_tchron_uplift')"
   ]
  },
  {
   "cell_type": "code",
   "execution_count": null,
   "metadata": {},
   "outputs": [],
   "source": [
    "# Add ZHe\n",
    "calculate.tchron_vtk_parallel(files,'ZHe',1e5,\n",
    "                                model_inputs=(100,100,50),\n",
    "                                model_fn=calculate.particle_He_profile,\n",
    "                                batch_size=100,\n",
    "                                processes=os.cpu_count()/2,\n",
    "                                overwrite=False,\n",
    "                                file_prefix='meshes_tchron_uplift')"
   ]
  },
  {
   "cell_type": "code",
   "execution_count": null,
   "metadata": {},
   "outputs": [],
   "source": [
    "# Set up video\n",
    "directory = 'meshes_tchron_uplift'\n",
    "\n",
    "time_total = 20 # Myr\n",
    "model_step = 0.1 # Myr\n",
    "bounds = [35,65,10,22] # km\n",
    "\n",
    "nsteps = int(time_total/model_step)\n",
    "\n",
    "timesteps = np.arange(0,nsteps+1,1)\n",
    "\n",
    "files = [os.path.join(directory,file) for file in os.listdir(directory) if file.endswith('.vtu')]\n",
    "files.sort()\n",
    "\n",
    "image_dir = 'images/'\n",
    "\n",
    "ahe_cmap = cmc.lapaz_r\n",
    "aft_cmap = cmc.lajolla_r\n",
    "zhe_cmap = cmc.bamako_r\n",
    "cat_cmap = cmc.batlowS\n",
    "clim = [0,time_total]\n",
    "bar=True"
   ]
  },
  {
   "cell_type": "code",
   "execution_count": null,
   "metadata": {},
   "outputs": [],
   "source": [
    "# Run image creation\n",
    "try:\n",
    "    shutil.rmtree(image_dir)\n",
    "except:\n",
    "    print(\"Creating new image directory...\")\n",
    "else:\n",
    "    print(\"Cleared existing image directory...\")\n",
    "\n",
    "os.makedirs(image_dir,exist_ok=False)\n",
    "\n",
    "# Make images for the video\n",
    "for k,step in enumerate(tqdm(timesteps)):\n",
    "    time = step*model_step\n",
    "    time_str = str(round(step/2,1)).zfill(5).replace('.','-')\n",
    "    \n",
    "    fig,axs = plt.subplots(2,2,dpi=300,figsize=(6.5,6))\n",
    "    axs = axs.flat\n",
    "\n",
    "    if 10<=time<=15:\n",
    "        title = 'Uplift'\n",
    "    else:\n",
    "        title = 'Quiescence'\n",
    "\n",
    "    axs[3].set_title(str(round(time,1)) +' Ma - ' + title,loc='left')\n",
    "    \n",
    "    plot.plot2D(files[k],'AHe',bounds=bounds,ax=axs[0],\n",
    "              cmap=ahe_cmap,colorbar=bar,clim=clim)\n",
    "    \n",
    "    plot.plot2D(files[k],'AFT',bounds=bounds,ax=axs[1],\n",
    "            cmap=aft_cmap,colorbar=bar,clim=clim)\n",
    "    \n",
    "    plot.plot2D(files[k],'ZHe',bounds=bounds,ax=axs[2],\n",
    "        cmap=zhe_cmap,colorbar=bar,clim=clim)\n",
    "\n",
    "    axs[0].set_title('AHe')\n",
    "    axs[1].set_title('AFT')\n",
    "    axs[2].set_title('ZHe')\n",
    "    \n",
    "    mesh = pv.read(files[k])\n",
    "\n",
    "    y = np.round(mesh.points[:,1]/1000,0)\n",
    "    AHe = mesh['AHe']\n",
    "    AFT = mesh['AFT']\n",
    "    ZHe = mesh['ZHe']\n",
    "\n",
    "    df = pd.DataFrame({'y':y,'AHe':AHe,'AFT':AFT,'ZHe':ZHe})\n",
    "    df_max = df.groupby('y').agg({'y':'first','AHe':'max','AFT':'max','ZHe':'max'})\n",
    "\n",
    "    axs[3].plot(df_max['AHe'],df_max['y'],c=cat_cmap.colors[6],label='AHe')\n",
    "    axs[3].plot(df_max['AFT'],df_max['y'],c=cat_cmap.colors[4],label='AFT')\n",
    "    axs[3].plot(df_max['ZHe'],df_max['y'],c=cat_cmap.colors[2],label='ZHe')\n",
    "\n",
    "    axs[3].set_xlim(-0.25,time_total)\n",
    "    axs[3].set_ylim(bounds[2],bounds[3])\n",
    "    axs[3].set_xlabel('Maximum Age (Ma)',fontsize=6)\n",
    "    axs[3].set_ylabel('Y Position (km)',fontsize=6)\n",
    "    axs[3].tick_params(labelsize=6)\n",
    "    axs[3].text(0.5,0.2,\n",
    "                'Surface Ages:\\n'\n",
    "                  'AHe: ' + str(round(df_max['AHe'][20],1)) + ' Ma\\n'\n",
    "                  'AFT: ' + str(round(df_max['AFT'][20],1)) + ' Ma\\n'\n",
    "                  'ZHe: ' + str(round(df_max['ZHe'][20],1)) + ' Ma\\n',\n",
    "                transform=axs[3].transAxes)\n",
    "    axs[3].legend(fontsize=6)\n",
    "\n",
    "    for ax in [axs[0],axs[1],axs[2]]:\n",
    "        ax.set_xlabel('X Position (km)',fontsize=6)\n",
    "        ax.set_ylabel('Y Position (km)',fontsize=6)\n",
    "        ax.tick_params(labelsize=6)\n",
    "\n",
    "    plt.tight_layout()\n",
    "    fig.savefig(image_dir+time_str+'.jpg')\n",
    "    plt.close()"
   ]
  },
  {
   "cell_type": "code",
   "execution_count": null,
   "metadata": {},
   "outputs": [],
   "source": [
    "# Make movie\n",
    "img_paths = [image_dir+file for file in sorted(os.listdir(image_dir)) if file.endswith('.jpg')]\n",
    "\n",
    "frame = cv2.imread(img_paths[0])\n",
    "height,width,layers = frame.shape\n",
    "\n",
    "fourcc = cv2.VideoWriter_fourcc(*'avc1')\n",
    "\n",
    "frate = 1/model_step\n",
    "\n",
    "video = cv2.VideoWriter('video_tchron.mp4', fourcc, frate, (width,height))\n",
    "\n",
    "for img in img_paths:\n",
    "    video.write(cv2.imread(img))\n",
    "\n",
    "cv2.destroyAllWindows()\n",
    "video.release()"
   ]
  },
  {
   "cell_type": "code",
   "execution_count": null,
   "metadata": {},
   "outputs": [],
   "source": [
    "from IPython.display import Video\n",
    "\n",
    "video_path = 'video_tchron.mp4'\n",
    "Video(video_path, embed=True, width=800)"
   ]
  },
  {
   "cell_type": "code",
   "execution_count": null,
   "metadata": {},
   "outputs": [],
   "source": []
  }
 ],
 "metadata": {
  "kernelspec": {
   "display_name": "Python 3 (ipykernel)",
   "language": "python",
   "name": "python3"
  },
  "language_info": {
   "codemirror_mode": {
    "name": "ipython",
    "version": 3
   },
   "file_extension": ".py",
   "mimetype": "text/x-python",
   "name": "python",
   "nbconvert_exporter": "python",
   "pygments_lexer": "ipython3",
   "version": "3.12.9"
  }
 },
 "nbformat": 4,
 "nbformat_minor": 4
}
