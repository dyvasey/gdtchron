{
 "cells": [
  {
   "cell_type": "markdown",
   "metadata": {},
   "source": [
    "# Example Parallelized Workflow\n",
    "This notebook demonstrates how GDTchron uses a parallelized workflow to process large numbers of time-temperature paths quickly. It creates a suite of pseudo-random t-T paths and predicts AHe ages from them using multiple processors, with the number of paths and processors set by the processors available on the system used."
   ]
  },
  {
   "cell_type": "code",
   "execution_count": null,
   "metadata": {},
   "outputs": [],
   "source": [
    "# Imports\n",
    "import os\n",
    "import time\n",
    "\n",
    "import numpy as np\n",
    "import matplotlib.pyplot as plt\n",
    "\n",
    "import cmcrameri.cm as cmc\n",
    "\n",
    "import gdtchron as gdt"
   ]
  },
  {
   "cell_type": "markdown",
   "metadata": {},
   "source": [
    "The cell below uses the CPU count of the current system to design a test with the number of cores available on the system."
   ]
  },
  {
   "cell_type": "code",
   "execution_count": null,
   "metadata": {},
   "outputs": [],
   "source": [
    "# Set up number of processesors\n",
    "max_cores = int(os.cpu_count()/2)\n",
    "print('Maximum cores: ',max_cores)\n",
    "core_list = [int(2**x) for x in range(max_cores) if 2**x<=max_cores]\n",
    "print('Cores to run for scaling test: ',core_list)"
   ]
  },
  {
   "cell_type": "markdown",
   "metadata": {},
   "source": [
    "The cell below determines the number of paths to run based on the maximum avaialable cores. It then generates the requisite number of paths by pseudo-randomly picking temperatures between 0°C and 75°C for each 100,000 years from 40 Ma to the present."
   ]
  },
  {
   "cell_type": "code",
   "execution_count": null,
   "metadata": {},
   "outputs": [],
   "source": [
    "# Set number of paths based on max cores\n",
    "n_paths = max_cores*1500\n",
    "print('Number of t-T paths: ',n_paths)\n",
    "\n",
    "# Generate list of pseudo-random t-T paths between 0 and 75 C over 40 Myr\n",
    "total_time = 40 # Myr\n",
    "interval = 0.1 # Myr\n",
    "n_steps = int(total_time/interval)+1\n",
    "tsteps = np.arange(total_time,0-interval,-interval) # Myr\n",
    "\n",
    "rng = np.random.default_rng(17)\n",
    "temp_paths = [rng.uniform(low=273,high=348,size=n_steps) for x in range(n_paths)]"
   ]
  },
  {
   "cell_type": "markdown",
   "metadata": {},
   "source": [
    "The cell below iterates through the core list and runs the t-T paths through GDTchron to predict AHe ages while logging the time it takes to process all paths."
   ]
  },
  {
   "cell_type": "code",
   "execution_count": null,
   "metadata": {},
   "outputs": [],
   "source": [
    "# Run through AHe\n",
    "times = []\n",
    "for cores in core_list:\n",
    "    print(cores,' cores')\n",
    "    start = time.time()\n",
    "    ages = gdt.run_tt_paths(temp_paths=temp_paths,tsteps=tsteps,system='AHe',\n",
    "                            batch_size=100,processes=cores)\n",
    "    end = time.time()\n",
    "    elapsed = end-start\n",
    "    times.append(elapsed)\n",
    "    print(cores,': ',elapsed,' seconds\\n')"
   ]
  },
  {
   "cell_type": "markdown",
   "metadata": {},
   "source": [
    "The cell below saves the core list and ages as arrays for re-use so that plotting can take place without needing to re-run the scaling test."
   ]
  },
  {
   "cell_type": "code",
   "execution_count": null,
   "metadata": {},
   "outputs": [],
   "source": [
    "# Create array and write to disk for reuse\n",
    "output = np.array([core_list,times])\n",
    "np.save('scaling.npy',output)\n",
    "\n",
    "age_array = np.array(ages)\n",
    "np.save('scaling_ages.npy',age_array)"
   ]
  },
  {
   "cell_type": "markdown",
   "metadata": {},
   "source": [
    "The cell below reloads the saved arrays if the scaling test above was run in a previous session."
   ]
  },
  {
   "cell_type": "code",
   "execution_count": null,
   "metadata": {},
   "outputs": [],
   "source": [
    "# Reload array\n",
    "output = np.load('scaling.npy')\n",
    "core_list = output[0]\n",
    "times = output[1]\n",
    "\n",
    "ages = np.load('scaling_ages.npy')"
   ]
  },
  {
   "cell_type": "markdown",
   "metadata": {},
   "source": [
    "The cell below just sets the color used for plotting the results and the name of the device used."
   ]
  },
  {
   "cell_type": "code",
   "execution_count": null,
   "metadata": {},
   "outputs": [],
   "source": [
    "# Color and Device\n",
    "ahe_color = cmc.batlowS.colors[6]\n",
    "device = 'Tufts HPC Node (Dual Intel Xeon Gold 6448Y)'"
   ]
  },
  {
   "cell_type": "markdown",
   "metadata": {},
   "source": [
    "The cell below plots the scaling results along with a histogram showing the ages predicted from the pseudo-random t-T paths."
   ]
  },
  {
   "cell_type": "code",
   "execution_count": null,
   "metadata": {},
   "outputs": [],
   "source": [
    "# Plot Scaling Results\n",
    "fig,axs = plt.subplots(1,2,dpi=300,figsize=(7,3.5))\n",
    "\n",
    "axs[0].plot(core_list,times,c=ahe_color,label=device)\n",
    "axs[0].loglog()\n",
    "axs[0].set_xlabel('Cores',fontsize=8)\n",
    "axs[0].set_ylabel('Time (s)',fontsize=8)\n",
    "axs[0].set_title('AHe Scaling Test',fontsize=10)\n",
    "\n",
    "ref_x = np.arange(1,max(core_list),1).astype(float)\n",
    "ref_y = max(times)*ref_x**-1\n",
    "axs[0].plot(ref_x,ref_y,c='grey',linestyle='--',label='Idealized Scaling Behavior')\n",
    "axs[0].legend(fontsize=6)\n",
    "axs[0].set_xticks(core_list)\n",
    "axs[0].set_xticklabels(core_list)\n",
    "\n",
    "# Plot age results\n",
    "hist_range=(6,24)\n",
    "axs[1].hist(ages,color=ahe_color,edgecolor='black',range=hist_range,bins=9)\n",
    "axs[1].set_title('Age Results',fontsize=10)\n",
    "axs[1].set_xlabel('AHe Age (Ma)',fontsize=8)\n",
    "axs[1].set_ylabel('Frequency',fontsize=8)\n",
    "axs[1].set_xlim(hist_range)\n",
    "\n",
    "for k,ax in enumerate(axs):\n",
    "    ax.tick_params(axis='both',labelsize=6)\n",
    "    ax.tick_params(which='minor', labelbottom=False, labelleft=False)\n",
    "    ax.annotate(chr(97+k) + ')',(-0.1,1.1),xycoords='axes fraction',fontsize=12) \n",
    "\n",
    "plt.tight_layout()\n",
    "fig.savefig('scaling_test.jpg')\n"
   ]
  }
 ],
 "metadata": {
  "kernelspec": {
   "display_name": "gdtchron-binder",
   "language": "python",
   "name": "python3"
  },
  "language_info": {
   "codemirror_mode": {
    "name": "ipython",
    "version": 3
   },
   "file_extension": ".py",
   "mimetype": "text/x-python",
   "name": "python",
   "nbconvert_exporter": "python",
   "pygments_lexer": "ipython3",
   "version": "3.12.11"
  }
 },
 "nbformat": 4,
 "nbformat_minor": 4
}
