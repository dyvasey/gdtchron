{
 "cells": [
  {
   "cell_type": "markdown",
   "id": "beeca881-6c51-4c96-b7e6-7ba301bbf5c6",
   "metadata": {},
   "source": [
    "# Process Complex Rift Inversion Model\n",
    "This notebook contains example code for processing a production-level ASPECT model of rift inversion using GDTchron. Because the source files are ~100 Gb, this code is not fully reproducible without a local copy of these files. Nevertheless, it demonstrates the workflow."
   ]
  },
  {
   "cell_type": "code",
   "execution_count": null,
   "id": "f692ca91-f0ed-49b3-875e-dd75e6c8d864",
   "metadata": {},
   "outputs": [],
   "source": [
    "# Imports\n",
    "import os\n",
    "\n",
    "import pyvista as pv\n",
    "from joblib import Parallel, delayed\n",
    "from tqdm import tqdm\n",
    "\n",
    "import gdtchron as gdt"
   ]
  },
  {
   "cell_type": "markdown",
   "id": "40bf91b1",
   "metadata": {},
   "source": [
    "The cell below gathers the paths to the .pvtu files output by ASPECT from the local source for processing"
   ]
  },
  {
   "cell_type": "code",
   "execution_count": null,
   "id": "4d3ea3ee-d798-4690-953b-ac9c261e4893",
   "metadata": {},
   "outputs": [],
   "source": [
    "# Get full output files from local source\n",
    "part_path = (\n",
    "    '/home/vaseylab/glaucophane/fastscape_testing/060524_rif/output_ri_rift/particles'\n",
    ")\n",
    "files = [\n",
    "    os.path.join(part_path, file) for file in os.listdir(part_path) \n",
    "    if file.endswith('.pvtu')\n",
    "]\n",
    "files.sort()"
   ]
  },
  {
   "cell_type": "markdown",
   "id": "984cd0a2-53b0-4460-8b5d-ac724465ff37",
   "metadata": {},
   "source": [
    "The cell below trims these large files by reducing their bounds to the upper and middle part of the model and by only including the ID and temperature fields needed for GDTchron. This makes subsequent processing of the files faster. \n"
   ]
  },
  {
   "cell_type": "code",
   "execution_count": null,
   "id": "3e6bce81-6751-4390-9cf7-8a0c3a7ff8eb",
   "metadata": {},
   "outputs": [],
   "source": [
    "# Isolate temperature and particle id and trim files for size\n",
    "clip_dir = 'ri_clipped'\n",
    "bounds = [200e3, 800e3, 550e3, 620e3, 0, 0]  # m (X,Y,Z)\n",
    "os.makedirs(clip_dir, exist_ok=True)\n",
    "\n",
    "\n",
    "def trim_file(file, bounds, clip_dir):\n",
    "    \"\"\"Trims large VTK files to reduce size.\"\"\"\n",
    "    basename = os.path.basename(file)[:-5] + '.vtu'\n",
    "    filename = os.path.join(clip_dir, basename)\n",
    "    \n",
    "    if os.path.exists(filename):\n",
    "        return\n",
    "    \n",
    "    mesh = pv.read(file)\n",
    "    temps = mesh['T']\n",
    "    ids = mesh['id']\n",
    "    mesh.point_data.clear()\n",
    "    mesh['T'] = temps\n",
    "    mesh['id'] = ids\n",
    "    clipped = mesh.clip_box(bounds=bounds, invert=False)\n",
    "    clipped.save(filename)\n",
    "    return\n",
    "\n",
    "\n",
    "output = Parallel(n_jobs=os.cpu_count() / 2)(\n",
    "    delayed(trim_file)(file, bounds, clip_dir) for file in tqdm(files, position=0)\n",
    "    )"
   ]
  },
  {
   "cell_type": "markdown",
   "id": "bdd30834",
   "metadata": {},
   "source": [
    "The cell below gets the paths to the newly trimmed files for GDTchron processing"
   ]
  },
  {
   "cell_type": "code",
   "execution_count": null,
   "id": "43ae3d91-792c-492d-9793-7f8ad8da221f",
   "metadata": {},
   "outputs": [],
   "source": [
    "# Get path to new trimmed files\n",
    "files = [\n",
    "    os.path.join(clip_dir, file) for file in os.listdir(clip_dir) \n",
    "    if file.endswith('.vtu')\n",
    "]\n",
    "files.sort()"
   ]
  },
  {
   "cell_type": "markdown",
   "id": "82ab6b1a",
   "metadata": {},
   "source": [
    "The next few cells below run GDTchron to predict AHe ages and create a new set of VTK files with these ages, then add AFT and ZHe ages to that same set of VTK files."
   ]
  },
  {
   "cell_type": "code",
   "execution_count": null,
   "id": "b557cb4b-d622-4e9c-ae1c-ad577a8e3cd9",
   "metadata": {},
   "outputs": [],
   "source": [
    "# Add AHe ages and create new meshes.\n",
    "gdt.run_vtk(files=files, system='AHe', time_interval=0.1, processes=os.cpu_count() / 2,\n",
    "            batch_size=1000)"
   ]
  },
  {
   "cell_type": "code",
   "execution_count": null,
   "id": "426d08b1-0941-442c-868d-f812e707cb49",
   "metadata": {},
   "outputs": [],
   "source": [
    "# Set path to reuse files from AHe\n",
    "new_path = 'meshes_tchron'\n",
    "files = [\n",
    "    os.path.join(new_path, file) for file in os.listdir(new_path) \n",
    "    if file.endswith('.vtu')\n",
    "]\n",
    "files.sort()"
   ]
  },
  {
   "cell_type": "code",
   "execution_count": null,
   "id": "378a49cb-b8d0-4c6a-bc1a-1c85f13e2cc2",
   "metadata": {},
   "outputs": [],
   "source": [
    "# Add AFT\n",
    "gdt.run_vtk(files=files, system='AFT', time_interval=0.1, processes=os.cpu_count() / 2,\n",
    "            batch_size=1000)"
   ]
  },
  {
   "cell_type": "code",
   "execution_count": null,
   "id": "9fd09927-5800-4513-81b4-381926e7e272",
   "metadata": {},
   "outputs": [],
   "source": [
    "# Add ZHe\n",
    "gdt.run_vtk(files=files, system='ZHe', time_interval=0.1, processes=os.cpu_count() / 2,\n",
    "            batch_size=1000)"
   ]
  },
  {
   "cell_type": "markdown",
   "id": "cbde17a2",
   "metadata": {},
   "source": [
    "This final cell re-runs AHe and creates a new set of VTK files without interpolation of thermal histories for new particles, so particles that were added during the ASPECT run will have no AHe ages. This is to demonstrate the effects of the interpolation scheme on GDTchron results."
   ]
  },
  {
   "cell_type": "code",
   "execution_count": null,
   "id": "51115484-fa9a-4a9d-b518-4f6d1538ad2c",
   "metadata": {},
   "outputs": [],
   "source": [
    "# Run AHe without interpolation in a new set of meshes\n",
    "gdt.run_vtk(files=files, system='AHe', time_interval=0.1, processes=os.cpu_count() / 2,\n",
    "            batch_size=1000, file_prefix='meshes_ahe_nointerp', interpolate_vals=False)"
   ]
  }
 ],
 "metadata": {
  "kernelspec": {
   "display_name": "gdtchron-binder",
   "language": "python",
   "name": "python3"
  },
  "language_info": {
   "codemirror_mode": {
    "name": "ipython",
    "version": 3
   },
   "file_extension": ".py",
   "mimetype": "text/x-python",
   "name": "python",
   "nbconvert_exporter": "python",
   "pygments_lexer": "ipython3",
   "version": "3.12.11"
  }
 },
 "nbformat": 4,
 "nbformat_minor": 5
}
