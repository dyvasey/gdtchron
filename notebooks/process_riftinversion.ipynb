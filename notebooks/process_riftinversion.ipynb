{
 "cells": [
  {
   "cell_type": "markdown",
   "id": "beeca881-6c51-4c96-b7e6-7ba301bbf5c6",
   "metadata": {},
   "source": [
    "# Process Rift Inversion Model"
   ]
  },
  {
   "cell_type": "code",
   "execution_count": 1,
   "id": "f692ca91-f0ed-49b3-875e-dd75e6c8d864",
   "metadata": {},
   "outputs": [],
   "source": [
    "# Imports\n",
    "import os\n",
    "import shutil\n",
    "\n",
    "import cv2\n",
    "\n",
    "import matplotlib.pyplot as plt\n",
    "import numpy as np\n",
    "import pandas as pd\n",
    "import pyvista as pv\n",
    "\n",
    "pv.start_xvfb()\n",
    "\n",
    "from tqdm import tqdm\n",
    "from joblib import Parallel,delayed\n",
    "\n",
    "from gdtchron import calculate,plot,aft"
   ]
  },
  {
   "cell_type": "code",
   "execution_count": null,
   "id": "4d3ea3ee-d798-4690-953b-ac9c261e4893",
   "metadata": {},
   "outputs": [],
   "source": [
    "# Get full output files from local source\n",
    "part_path = '/home/vaseylab/glaucophane/fastscape_testing/060524_rif/output_ri_rift/particles'\n",
    "files = [os.path.join(part_path,file) for file in os.listdir(part_path) if file.endswith('.pvtu')]\n",
    "files.sort()"
   ]
  },
  {
   "cell_type": "code",
   "execution_count": null,
   "id": "984cd0a2-53b0-4460-8b5d-ac724465ff37",
   "metadata": {},
   "outputs": [],
   "source": [
    "# Define directory for clipped meshes\n",
    "clip_dir = 'ri_clipped'"
   ]
  },
  {
   "cell_type": "code",
   "execution_count": null,
   "id": "3e6bce81-6751-4390-9cf7-8a0c3a7ff8eb",
   "metadata": {},
   "outputs": [],
   "source": [
    "# Isolate temperature and particle id and trim\n",
    "bounds =[200e3,800e3,550e3,620e3,0,0] # km (X,Y,Z)\n",
    "os.makedirs(clip_dir,exist_ok=True)\n",
    "\n",
    "def trim_file(file,bounds,clip_dir):\n",
    "    basename = os.path.basename(file)[:-5] + '.vtu'\n",
    "    filename = os.path.join(clip_dir,basename)\n",
    "    \n",
    "    if os.path.exists(filename):\n",
    "        return\n",
    "    \n",
    "    mesh=pv.read(file)\n",
    "    temps = mesh['T']\n",
    "    ids = mesh['id']\n",
    "    mesh.point_data.clear()\n",
    "    mesh['T'] = temps\n",
    "    mesh['id'] = ids\n",
    "    clipped=mesh.clip_box(bounds=bounds,invert=False)\n",
    "    clipped.save(filename)\n",
    "    return\n",
    "\n",
    "output = Parallel(n_jobs=os.cpu_count()/2)(delayed(trim_file)(file,bounds,clip_dir) for file in tqdm(files,position=0))"
   ]
  },
  {
   "cell_type": "code",
   "execution_count": null,
   "id": "43ae3d91-792c-492d-9793-7f8ad8da221f",
   "metadata": {},
   "outputs": [],
   "source": [
    "# Get path to new files\n",
    "files = [os.path.join(clip_dir,file) for file in os.listdir(clip_dir) if file.endswith('.vtu')]\n",
    "files.sort()"
   ]
  },
  {
   "cell_type": "code",
   "execution_count": null,
   "id": "b557cb4b-d622-4e9c-ae1c-ad577a8e3cd9",
   "metadata": {},
   "outputs": [],
   "source": [
    "# Add AHe ages and create new meshes.\n",
    "calculate.tchron_vtk_parallel(files,'AHe',1e5,\n",
    "                                model_inputs=(100,100,50),\n",
    "                                model_fn=calculate.particle_He_profile,\n",
    "                                batch_size=1000,\n",
    "                                processes=os.cpu_count()/2,\n",
    "                                overwrite=False)"
   ]
  },
  {
   "cell_type": "code",
   "execution_count": null,
   "id": "426d08b1-0941-442c-868d-f812e707cb49",
   "metadata": {},
   "outputs": [],
   "source": [
    "# Set path to reuse files from AHe\n",
    "new_path = 'meshes_tchron'\n",
    "files = [os.path.join(new_path,file) for file in os.listdir(new_path) if file.endswith('.vtu')]\n",
    "files.sort()"
   ]
  },
  {
   "cell_type": "code",
   "execution_count": null,
   "id": "378a49cb-b8d0-4c6a-bc1a-1c85f13e2cc2",
   "metadata": {},
   "outputs": [],
   "source": [
    "# Add AFT\n",
    "calculate.tchron_vtk_parallel(files,'AFT',1e5,\n",
    "                                model_inputs=(aft.Ketcham_99_FC, 1.75),\n",
    "                                model_fn=calculate.particle_FT_annealing,\n",
    "                                batch_size=1000,\n",
    "                                processes=os.cpu_count()/2,\n",
    "                                overwrite=False)"
   ]
  },
  {
   "cell_type": "code",
   "execution_count": null,
   "id": "9fd09927-5800-4513-81b4-381926e7e272",
   "metadata": {},
   "outputs": [],
   "source": [
    "# Add ZHe\n",
    "calculate.tchron_vtk_parallel(files,'ZHe',1e5,\n",
    "                                model_inputs=(100,100,50),\n",
    "                                model_fn=calculate.particle_He_profile,\n",
    "                                batch_size=1000,\n",
    "                                processes=os.cpu_count()/2,\n",
    "                                overwrite=False)"
   ]
  },
  {
   "cell_type": "code",
   "execution_count": null,
   "id": "51115484-fa9a-4a9d-b518-4f6d1538ad2c",
   "metadata": {},
   "outputs": [],
   "source": [
    "# Run AHe without interpolation\n",
    "# Add AHe ages and create new meshes.\n",
    "calculate.tchron_vtk_parallel(files,'AHe',1e5,\n",
    "                                model_inputs=(100,100,50),\n",
    "                                model_fn=calculate.particle_He_profile,\n",
    "                                batch_size=1000,\n",
    "                                processes=os.cpu_count()/2,\n",
    "                                overwrite=False,\n",
    "                                file_prefix='meshes_ahe_nointerp',\n",
    "                                interpolate_vals=False\n",
    "                                )"
   ]
  },
  {
   "cell_type": "code",
   "execution_count": null,
   "id": "f9f1cba9-5039-4450-bdd4-094175d68271",
   "metadata": {},
   "outputs": [],
   "source": []
  }
 ],
 "metadata": {
  "kernelspec": {
   "display_name": "Python 3 (ipykernel)",
   "language": "python",
   "name": "python3"
  },
  "language_info": {
   "codemirror_mode": {
    "name": "ipython",
    "version": 3
   },
   "file_extension": ".py",
   "mimetype": "text/x-python",
   "name": "python",
   "nbconvert_exporter": "python",
   "pygments_lexer": "ipython3",
   "version": "3.12.9"
  }
 },
 "nbformat": 4,
 "nbformat_minor": 5
}
